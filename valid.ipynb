{
 "cells": [
  {
   "cell_type": "code",
   "execution_count": null,
   "metadata": {},
   "outputs": [],
   "source": [
    "import pandas as pd\n",
    "import matplotlib.pyplot as plt\n",
    "import seaborn as sns\n",
    "\n",
    "data = pd.read_csv('valid.csv')"
   ]
  },
  {
   "cell_type": "code",
   "execution_count": null,
   "metadata": {},
   "outputs": [],
   "source": [
    "with open(\"C:\\\\Users\\\\vidus\\\\Desktop\\\\ml hw\\\\a.txt\", 'r') as file:\n",
    "    for line in file:\n",
    "        col = line.strip()\n",
    "        data = data.drop(col, axis=1)\n",
    "\n",
    "for col in data.columns:\n",
    "    if data[col].isnull().sum() > 103558:\n",
    "        data = data.drop(col, axis=1)\n",
    "\n",
    "missing_values_count = data.isnull().sum()\n",
    "\n",
    "plt.figure(figsize=(10, 50))\n",
    "missing_values_count.plot(kind='barh', color='skyblue')\n",
    "plt.title('Missing Values in Columns')\n",
    "plt.xlabel('Columns')\n",
    "plt.ylabel('Number of Missing Values')\n",
    "plt.xticks(rotation=45, ha='right')\n",
    "plt.show()\n"
   ]
  },
  {
   "cell_type": "code",
   "execution_count": null,
   "metadata": {},
   "outputs": [],
   "source": [
    "cols = [\"home_ownership\", \"verification_status\", \"term\", \"grade\", \"initial_list_status\", \"debt_settlement_flag\", \"emp_length\", \"initial_list_status\"\n",
    "]   \n",
    "data_encoded = pd.get_dummies(data, columns=cols)\n",
    "\n",
    "\n",
    "y = data_encoded[\"loan_status\"]\n",
    "\n",
    "data_encoded = data_encoded.drop(\"loan_status\", axis=1)\n",
    "\n",
    "cols1 = [\"purpose\", \"title\", \"emp_title\", \"issue_d\", \"zip_code\", \"addr_state\", \"earliest_cr_line\", \"sub_grade\", \"last_pymnt_d\", \"last_credit_pull_d\"]\n",
    "for col in cols1:\n",
    "    dr_frequency_map=data_encoded[col].value_counts().to_dict()\n",
    "    data_encoded[col] = data_encoded[col].map(dr_frequency_map)"
   ]
  },
  {
   "cell_type": "code",
   "execution_count": null,
   "metadata": {},
   "outputs": [],
   "source": [
    "from scipy.stats import skew\n",
    "\n",
    "# Identify skewed columns (numeric)\n",
    "numeric_cols = data_encoded.select_dtypes(include=['float64', 'int64']).columns\n",
    "skewed_cols = data_encoded[numeric_cols].apply(lambda x: skew(x.dropna()))\n",
    "\n",
    "# Choose a skewness threshold (you can adjust this value)\n",
    "skew_threshold = 0.5\n",
    "skewed_cols = skewed_cols[abs(skewed_cols) > skew_threshold].index\n",
    "\n",
    "# Replace missing values with the median in skewed columns\n",
    "for col in skewed_cols:\n",
    "    median_value = data_encoded[col].median()\n",
    "    data_encoded[col].fillna(median_value, inplace=True)\n",
    "\n",
    "# Verify that missing values are replaced\n",
    "# data.isnull().sum()  # Uncomment to check for missing values after replacement\n",
    "    \n",
    "fill_mean = [\"bc_util\", \"revol_util\", \"mo_sin_old_il_acct\", \"percent_bc_gt_75\"]\n",
    "\n",
    "for col in fill_mean:\n",
    "    data_encoded[col].fillna(data[col].mean(), inplace=True)\n",
    "\n",
    "\n",
    "missing_values = data_encoded.isnull().sum()\n",
    "\n",
    "data_encoded = data_encoded.fillna(value=0)\n",
    "\n",
    "# Plot a bar graph\n",
    "plt.figure(figsize=(10, 50))\n",
    "missing_values.plot(kind='barh', color='skyblue')\n",
    "plt.title('Missing Values in Columns')\n",
    "plt.xlabel('Columns')\n",
    "plt.ylabel('Number of Missing Values')\n",
    "plt.xticks(rotation=45, ha='right')\n",
    "plt.show()\n"
   ]
  },
  {
   "cell_type": "code",
   "execution_count": null,
   "metadata": {},
   "outputs": [],
   "source": [
    "#week corr\n",
    "col_to_drop = [\"num_rev_tl_bal_gt_0\", \"issue_d\", \"earliest_cr_line\", \"last_pymnt_d\", \"last_credit_pull_d\", \"annual_inc\", \"dti\", \"delinq_2yrs\", \"inq_last_6mths\", \"total_il_high_credit_limit\"]\n",
    "data_encoded = data_encoded.drop(col_to_drop, axis=1)"
   ]
  },
  {
   "cell_type": "code",
   "execution_count": null,
   "metadata": {},
   "outputs": [],
   "source": [
    "from sklearn.preprocessing import StandardScaler\n",
    "\n",
    "scaler=StandardScaler()\n",
    "scaler.fit(data_encoded)\n",
    "scaled_data=scaler.transform(data_encoded)\n",
    "\n",
    "from sklearn.decomposition import PCA\n",
    "\n",
    "pca=PCA(n_components=20,random_state=42)\n",
    "pca.fit(scaled_data)\n",
    "X_pca=pca.transform(scaled_data)\n",
    "\n",
    "from numpy import loadtxt\n",
    "from xgboost import XGBClassifier\n",
    "from sklearn.metrics import accuracy_score\n",
    "\n",
    "# fit model no training data\n",
    "model = XGBClassifier()\n",
    "model.fit(X_pca, y)"
   ]
  },
  {
   "cell_type": "code",
   "execution_count": null,
   "metadata": {},
   "outputs": [],
   "source": [
    "# make predictions for test data\n",
    "y_pred = model.predict(X_pca)\n",
    "predictions = [round(value) for value in y_pred]\n",
    "\n",
    "# evaluate predictions\n",
    "accuracy = accuracy_score(y, predictions)\n",
    "print(\"Accuracy: %.2f%%\" % (accuracy * 100.0))"
   ]
  },
  {
   "cell_type": "code",
   "execution_count": null,
   "metadata": {},
   "outputs": [],
   "source": [
    "final_result_df = pd.DataFrame(data_encoded)\n",
    "final_result_df.insert(0, 'loan_status', y_pred)\n",
    "final_result_df.to_csv('210099V.csv', index=False)"
   ]
  }
 ],
 "metadata": {
  "kernelspec": {
   "display_name": "Python 3",
   "language": "python",
   "name": "python3"
  },
  "language_info": {
   "codemirror_mode": {
    "name": "ipython",
    "version": 3
   },
   "file_extension": ".py",
   "mimetype": "text/x-python",
   "name": "python",
   "nbconvert_exporter": "python",
   "pygments_lexer": "ipython3",
   "version": "3.10.7"
  }
 },
 "nbformat": 4,
 "nbformat_minor": 2
}
